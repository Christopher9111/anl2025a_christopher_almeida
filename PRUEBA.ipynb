{
 "cells": [
  {
   "cell_type": "code",
   "execution_count": 2,
   "id": "3a05d717",
   "metadata": {},
   "outputs": [],
   "source": [
    "def Gauss_Seidel_H100(A, b, x0):\n",
    "    a=1"
   ]
  },
  {
   "cell_type": "code",
   "execution_count": 4,
   "id": "2f51c933",
   "metadata": {},
   "outputs": [],
   "source": [
    "def método_de_la_potencia_inversa (A, b, x0):\n",
    "    a=1"
   ]
  },
  {
   "cell_type": "code",
   "execution_count": null,
   "id": "67db8539",
   "metadata": {},
   "outputs": [],
   "source": []
  }
 ],
 "metadata": {
  "kernelspec": {
   "display_name": "venv",
   "language": "python",
   "name": "python3"
  },
  "language_info": {
   "codemirror_mode": {
    "name": "ipython",
    "version": 3
   },
   "file_extension": ".py",
   "mimetype": "text/x-python",
   "name": "python",
   "nbconvert_exporter": "python",
   "pygments_lexer": "ipython3",
   "version": "3.13.2"
  }
 },
 "nbformat": 4,
 "nbformat_minor": 5
}
